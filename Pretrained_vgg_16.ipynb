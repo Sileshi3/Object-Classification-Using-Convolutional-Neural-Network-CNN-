{
 "cells": [
  {
   "cell_type": "code",
   "execution_count": null,
   "metadata": {
    "id": "OnijNloZyn0d"
   },
   "outputs": [],
   "source": [
    "import tensorflow\n",
    "# from sklearn.metrics import confusion_matrix"
   ]
  },
  {
   "cell_type": "code",
   "execution_count": null,
   "metadata": {
    "colab": {
     "base_uri": "https://localhost:8080/"
    },
    "id": "XKMYuS6Qys-7",
    "outputId": "dc539377-1cc5-4597-fc9e-1e36d6f50c1f"
   },
   "outputs": [
    {
     "name": "stdout",
     "output_type": "stream",
     "text": [
      "Mounted at /content/drive\n"
     ]
    }
   ],
   "source": [
    "from google.colab import drive\n",
    "drive.mount('/content/drive')"
   ]
  },
  {
   "cell_type": "code",
   "execution_count": null,
   "metadata": {
    "id": "fy4cM_k0yn0n"
   },
   "outputs": [],
   "source": [
    "import keras\n",
    "from tensorflow.keras.datasets import cifar10\n",
    "from tensorflow.keras import models,layers\n",
    "from tensorflow.keras.models import Sequential\n",
    "from tensorflow.keras.layers import Dense, Dropout, Conv2D, MaxPool2D, Flatten\n",
    "from tensorflow.keras.utils import to_categorical"
   ]
  },
  {
   "cell_type": "code",
   "execution_count": null,
   "metadata": {
    "id": "DSI0lsbfyn0o"
   },
   "outputs": [],
   "source": [
    "import numpy as np\n",
    "import matplotlib.pyplot as plt\n",
    "%matplotlib inline\n",
    "from __future__ import print_function\n",
    "from keras.preprocessing.image import ImageDataGenerator, load_img"
   ]
  },
  {
   "cell_type": "code",
   "execution_count": null,
   "metadata": {
    "id": "BqUm1itYyn0o"
   },
   "outputs": [],
   "source": [
    "train_dir = '/content/drive/MyDrive/CNN/Dataset/train_images'\n",
    "validation_dir = '/content/drive/MyDrive/CNN/Dataset/test_images'\n",
    "image_size = 224"
   ]
  },
  {
   "cell_type": "markdown",
   "metadata": {
    "id": "d4c483BOyn0o"
   },
   "source": [
    "# Train last 4 layers with data augmentation\n"
   ]
  },
  {
   "cell_type": "markdown",
   "metadata": {
    "id": "r4qQQDk9yn0p"
   },
   "source": [
    "## Build model"
   ]
  },
  {
   "cell_type": "code",
   "execution_count": 17,
   "metadata": {
    "colab": {
     "base_uri": "https://localhost:8080/"
    },
    "id": "9RRH7XtWyn0p",
    "outputId": "f284bc8b-b419-442d-d725-2e888f843a33"
   },
   "outputs": [
    {
     "name": "stdout",
     "output_type": "stream",
     "text": [
      "Model: \"sequential_5\"\n",
      "_________________________________________________________________\n",
      "Layer (type)                 Output Shape              Param #   \n",
      "=================================================================\n",
      "vgg16 (Functional)           (None, 7, 7, 512)         14714688  \n",
      "_________________________________________________________________\n",
      "flatten_5 (Flatten)          (None, 25088)             0         \n",
      "_________________________________________________________________\n",
      "dense_10 (Dense)             (None, 1024)              25691136  \n",
      "_________________________________________________________________\n",
      "dropout_2 (Dropout)          (None, 1024)              0         \n",
      "_________________________________________________________________\n",
      "dense_11 (Dense)             (None, 10)                10250     \n",
      "=================================================================\n",
      "Total params: 40,416,074\n",
      "Trainable params: 32,780,810\n",
      "Non-trainable params: 7,635,264\n",
      "_________________________________________________________________\n"
     ]
    }
   ],
   "source": [
    "from keras.applications import VGG16\n",
    "\n",
    "#Load the VGG model\n",
    "vgg_conv = VGG16(weights='imagenet', include_top=False, input_shape=(image_size, image_size, 3))\n",
    "\n",
    "# Freeze all the layers\n",
    "for layer in vgg_conv.layers[:-4]:\n",
    "    layer.trainable = False\n",
    "\n",
    "# Check the trainable status of the individual layers\n",
    "# for layer in vgg_conv.layers:\n",
    "#     print(layer, layer.trainable)\n",
    "\n",
    "\n",
    "from keras import models\n",
    "from keras import layers\n",
    "from keras import optimizers\n",
    "\n",
    "# Create the model\n",
    "model = models.Sequential()\n",
    "\n",
    "# Add the vgg convolutional base model\n",
    "model.add(vgg_conv)\n",
    "\n",
    "# Add new layers\n",
    "model.add(layers.Flatten())\n",
    "model.add(layers.Dense(1024, activation='relu'))\n",
    "model.add(layers.Dropout(0.5))\n",
    "model.add(layers.Dense(10, activation='softmax'))\n",
    "\n",
    "#Show a summary of the model. Check the number of trainable parameters\n",
    "model.summary()"
   ]
  },
  {
   "cell_type": "markdown",
   "metadata": {
    "id": "b8Ml-WPcyn0q"
   },
   "source": [
    "## Training step\n",
    "Train the model. Here we will be using the imageDataGenerator for data augmentation."
   ]
  },
  {
   "cell_type": "code",
   "execution_count": 19,
   "metadata": {
    "colab": {
     "base_uri": "https://localhost:8080/"
    },
    "id": "OPDEoY4yyn0r",
    "outputId": "7d34fa40-9c93-4c79-f497-0d6d955b44f8",
    "scrolled": true
   },
   "outputs": [
    {
     "name": "stdout",
     "output_type": "stream",
     "text": [
      "Found 2408 images belonging to 10 classes.\n",
      "Found 604 images belonging to 10 classes.\n",
      "Epoch 1/50\n",
      "76/76 [==============================] - 281s 4s/step - loss: 3.0628 - accuracy: 0.3350 - val_loss: 1.2362 - val_accuracy: 0.6705\n",
      "Epoch 2/50\n",
      "76/76 [==============================] - 170s 2s/step - loss: 1.2312 - accuracy: 0.6380 - val_loss: 1.4036 - val_accuracy: 0.6209\n",
      "Epoch 3/50\n",
      "76/76 [==============================] - 168s 2s/step - loss: 0.9822 - accuracy: 0.6987 - val_loss: 0.5644 - val_accuracy: 0.8146\n",
      "Epoch 4/50\n",
      "76/76 [==============================] - 167s 2s/step - loss: 0.7622 - accuracy: 0.7584 - val_loss: 0.5710 - val_accuracy: 0.8146\n",
      "Epoch 5/50\n",
      "76/76 [==============================] - 167s 2s/step - loss: 0.6200 - accuracy: 0.8068 - val_loss: 0.4639 - val_accuracy: 0.8560\n",
      "Epoch 6/50\n",
      "76/76 [==============================] - 166s 2s/step - loss: 0.5259 - accuracy: 0.8338 - val_loss: 0.5823 - val_accuracy: 0.8063\n",
      "Epoch 7/50\n",
      "76/76 [==============================] - 166s 2s/step - loss: 0.5370 - accuracy: 0.8341 - val_loss: 0.5755 - val_accuracy: 0.7831\n",
      "Epoch 8/50\n",
      "76/76 [==============================] - 166s 2s/step - loss: 0.5028 - accuracy: 0.8506 - val_loss: 0.5328 - val_accuracy: 0.8394\n",
      "Epoch 9/50\n",
      "76/76 [==============================] - 166s 2s/step - loss: 0.4294 - accuracy: 0.8745 - val_loss: 0.3731 - val_accuracy: 0.8841\n",
      "Epoch 10/50\n",
      "76/76 [==============================] - 166s 2s/step - loss: 0.4748 - accuracy: 0.8492 - val_loss: 0.4473 - val_accuracy: 0.8742\n",
      "Epoch 11/50\n",
      "76/76 [==============================] - 166s 2s/step - loss: 0.4343 - accuracy: 0.8731 - val_loss: 0.5047 - val_accuracy: 0.8725\n",
      "Epoch 12/50\n",
      "76/76 [==============================] - 166s 2s/step - loss: 0.3896 - accuracy: 0.8693 - val_loss: 0.8420 - val_accuracy: 0.7517\n",
      "Epoch 13/50\n",
      "76/76 [==============================] - 166s 2s/step - loss: 0.3800 - accuracy: 0.8825 - val_loss: 0.3345 - val_accuracy: 0.8990\n",
      "Epoch 14/50\n",
      "76/76 [==============================] - 166s 2s/step - loss: 0.3273 - accuracy: 0.9040 - val_loss: 0.3397 - val_accuracy: 0.9040\n",
      "Epoch 15/50\n",
      "76/76 [==============================] - 166s 2s/step - loss: 0.3254 - accuracy: 0.8962 - val_loss: 0.2744 - val_accuracy: 0.9222\n",
      "Epoch 16/50\n",
      "76/76 [==============================] - 167s 2s/step - loss: 0.3437 - accuracy: 0.8914 - val_loss: 0.2438 - val_accuracy: 0.9205\n",
      "Epoch 17/50\n",
      "76/76 [==============================] - 166s 2s/step - loss: 0.3619 - accuracy: 0.8951 - val_loss: 0.6573 - val_accuracy: 0.7881\n",
      "Epoch 18/50\n",
      "76/76 [==============================] - 166s 2s/step - loss: 0.3030 - accuracy: 0.9027 - val_loss: 0.2445 - val_accuracy: 0.9156\n",
      "Epoch 19/50\n",
      "76/76 [==============================] - 166s 2s/step - loss: 0.2836 - accuracy: 0.9153 - val_loss: 0.3248 - val_accuracy: 0.9172\n",
      "Epoch 20/50\n",
      "76/76 [==============================] - 166s 2s/step - loss: 0.3034 - accuracy: 0.9101 - val_loss: 1.1422 - val_accuracy: 0.6772\n",
      "Epoch 21/50\n",
      "76/76 [==============================] - 166s 2s/step - loss: 0.2682 - accuracy: 0.9176 - val_loss: 0.3038 - val_accuracy: 0.9073\n",
      "Epoch 22/50\n",
      "76/76 [==============================] - 167s 2s/step - loss: 0.2753 - accuracy: 0.9103 - val_loss: 0.3140 - val_accuracy: 0.9056\n",
      "Epoch 23/50\n",
      "76/76 [==============================] - 167s 2s/step - loss: 0.2473 - accuracy: 0.9284 - val_loss: 0.5847 - val_accuracy: 0.8129\n",
      "Epoch 24/50\n",
      "76/76 [==============================] - 166s 2s/step - loss: 0.2759 - accuracy: 0.9084 - val_loss: 0.2240 - val_accuracy: 0.9437\n",
      "Epoch 25/50\n",
      "76/76 [==============================] - 166s 2s/step - loss: 0.2742 - accuracy: 0.9195 - val_loss: 0.6467 - val_accuracy: 0.8179\n",
      "Epoch 26/50\n",
      "76/76 [==============================] - 166s 2s/step - loss: 0.2624 - accuracy: 0.9210 - val_loss: 0.3793 - val_accuracy: 0.9040\n",
      "Epoch 27/50\n",
      "76/76 [==============================] - 166s 2s/step - loss: 0.2759 - accuracy: 0.9239 - val_loss: 0.3650 - val_accuracy: 0.8891\n",
      "Epoch 28/50\n",
      "76/76 [==============================] - 165s 2s/step - loss: 0.2605 - accuracy: 0.9190 - val_loss: 0.3187 - val_accuracy: 0.9172\n",
      "Epoch 29/50\n",
      "76/76 [==============================] - 165s 2s/step - loss: 0.2454 - accuracy: 0.9270 - val_loss: 0.2758 - val_accuracy: 0.9238\n",
      "Epoch 30/50\n",
      "76/76 [==============================] - 165s 2s/step - loss: 0.2374 - accuracy: 0.9284 - val_loss: 0.3347 - val_accuracy: 0.8924\n",
      "Epoch 31/50\n",
      "76/76 [==============================] - 165s 2s/step - loss: 0.2694 - accuracy: 0.9181 - val_loss: 0.4154 - val_accuracy: 0.8990\n",
      "Epoch 32/50\n",
      "76/76 [==============================] - 165s 2s/step - loss: 0.2117 - accuracy: 0.9377 - val_loss: 0.8511 - val_accuracy: 0.8113\n",
      "Epoch 33/50\n",
      "76/76 [==============================] - 165s 2s/step - loss: 0.3021 - accuracy: 0.9178 - val_loss: 0.4430 - val_accuracy: 0.8940\n",
      "Epoch 34/50\n",
      "76/76 [==============================] - 166s 2s/step - loss: 0.2465 - accuracy: 0.9281 - val_loss: 0.3760 - val_accuracy: 0.9123\n",
      "Epoch 35/50\n",
      "76/76 [==============================] - 166s 2s/step - loss: 0.2217 - accuracy: 0.9366 - val_loss: 0.3508 - val_accuracy: 0.9040\n",
      "Epoch 36/50\n",
      "76/76 [==============================] - 166s 2s/step - loss: 0.2365 - accuracy: 0.9329 - val_loss: 0.3594 - val_accuracy: 0.9040\n",
      "Epoch 37/50\n",
      "76/76 [==============================] - 167s 2s/step - loss: 0.2146 - accuracy: 0.9378 - val_loss: 0.4068 - val_accuracy: 0.8891\n",
      "Epoch 38/50\n",
      "76/76 [==============================] - 166s 2s/step - loss: 0.2745 - accuracy: 0.9242 - val_loss: 0.2884 - val_accuracy: 0.9321\n",
      "Epoch 39/50\n",
      "76/76 [==============================] - 166s 2s/step - loss: 0.2744 - accuracy: 0.9262 - val_loss: 0.2827 - val_accuracy: 0.9089\n",
      "Epoch 40/50\n",
      "76/76 [==============================] - 166s 2s/step - loss: 0.1993 - accuracy: 0.9435 - val_loss: 0.2486 - val_accuracy: 0.9354\n",
      "Epoch 41/50\n",
      "76/76 [==============================] - 166s 2s/step - loss: 0.2747 - accuracy: 0.9159 - val_loss: 0.3012 - val_accuracy: 0.9338\n",
      "Epoch 42/50\n",
      "76/76 [==============================] - 166s 2s/step - loss: 0.2319 - accuracy: 0.9402 - val_loss: 0.2575 - val_accuracy: 0.9404\n",
      "Epoch 43/50\n",
      "76/76 [==============================] - 167s 2s/step - loss: 0.2026 - accuracy: 0.9371 - val_loss: 0.3371 - val_accuracy: 0.9288\n",
      "Epoch 44/50\n",
      "76/76 [==============================] - 166s 2s/step - loss: 0.2495 - accuracy: 0.9319 - val_loss: 0.2934 - val_accuracy: 0.9288\n",
      "Epoch 45/50\n",
      "76/76 [==============================] - 166s 2s/step - loss: 0.2164 - accuracy: 0.9302 - val_loss: 0.2586 - val_accuracy: 0.9338\n",
      "Epoch 46/50\n",
      "76/76 [==============================] - 167s 2s/step - loss: 0.1632 - accuracy: 0.9490 - val_loss: 0.3565 - val_accuracy: 0.9073\n",
      "Epoch 47/50\n",
      "76/76 [==============================] - 167s 2s/step - loss: 0.2192 - accuracy: 0.9368 - val_loss: 0.3005 - val_accuracy: 0.9255\n",
      "Epoch 48/50\n",
      "76/76 [==============================] - 167s 2s/step - loss: 0.2044 - accuracy: 0.9439 - val_loss: 0.2919 - val_accuracy: 0.9387\n",
      "Epoch 49/50\n",
      "76/76 [==============================] - 166s 2s/step - loss: 0.1767 - accuracy: 0.9456 - val_loss: 0.3907 - val_accuracy: 0.8940\n",
      "Epoch 50/50\n",
      "76/76 [==============================] - 166s 2s/step - loss: 0.2086 - accuracy: 0.9428 - val_loss: 0.4548 - val_accuracy: 0.9089\n"
     ]
    }
   ],
   "source": [
    "train_datagen = ImageDataGenerator(\n",
    "      rescale=1./255,\n",
    "      rotation_range=20,\n",
    "      width_shift_range=0.2,\n",
    "      height_shift_range=0.2,\n",
    "      horizontal_flip=True,\n",
    "      fill_mode='nearest'\n",
    "      )\n",
    "\n",
    "\n",
    "validation_datagen = ImageDataGenerator(rescale=1./255)\n",
    "\n",
    "# Change the batchsize according to your system RAM\n",
    "train_batchsize = 32\n",
    "val_batchsize = 32\n",
    "\n",
    "#parameters\n",
    "eps = 1#40\n",
    "\n",
    "# Data Generator for Training data\n",
    "train_generator = train_datagen.flow_from_directory(\n",
    "        train_dir,\n",
    "        target_size=(image_size, image_size),\n",
    "        batch_size=train_batchsize,\n",
    "        class_mode='categorical')\n",
    "\n",
    "# Data Generator for Validation data\n",
    "validation_generator = validation_datagen.flow_from_directory(\n",
    "        validation_dir,\n",
    "        target_size=(image_size, image_size),\n",
    "        batch_size=val_batchsize,\n",
    "        class_mode='categorical',\n",
    "        shuffle=False)\n",
    "\n",
    "cnn = models.Sequential([\n",
    "     layers.Conv2D(filters =32, kernel_size=(3,3),activation = 'relu',input_shape = (224,224,3)),\n",
    "     layers.MaxPooling2D((2,2)),\n",
    "     layers.Conv2D(filters =64, kernel_size=(3,3),activation = 'relu'),\n",
    "     layers.MaxPooling2D((2,2)),\n",
    "     # dense layer\n",
    "     layers.Flatten(),\n",
    "     layers.Dense(64,activation = 'relu'),\n",
    "     layers.Dense(10,activation = 'softmax')\n",
    "     ])\n",
    "# Compile the model\n",
    "cnn.compile(loss='categorical_crossentropy',\n",
    "              optimizer=optimizers.RMSprop(lr=0.001),\n",
    "              metrics=['accuracy'])\n",
    "# cnn.compile(optimizer ='adam',\n",
    "#             loss = 'sparse_categorical_crossentropy',\n",
    "#             metrics=['accuracy'])\n",
    "history = cnn.fit(train_generator,\n",
    "                              epochs=50,\n",
    "                              verbose=1,\n",
    "                              validation_data=validation_generator)\n",
    "\n",
    "model.save('trained_last4_layers_model.h5')"
   ]
  },
  {
   "cell_type": "code",
   "execution_count": null,
   "metadata": {
    "id": "U-FWBn1hyn0r"
   },
   "outputs": [],
   "source": []
  },
  {
   "cell_type": "code",
   "execution_count": 20,
   "metadata": {
    "colab": {
     "base_uri": "https://localhost:8080/",
     "height": 590
    },
    "id": "uV3hWpXJyn0s",
    "outputId": "a2e6c347-da7e-4744-c228-d5c0067114ff"
   },
   "outputs": [
    {
     "data": {
      "image/png": "[encoded data removed]",
      "text/plain": [
       "<Figure size 432x288 with 1 Axes>"
      ]
     },
     "metadata": {
      "needs_background": "light",
      "tags": []
     },
     "output_type": "display_data"
    },
    {
     "data": {
      "image/png": "[encoded data removed]",
      "text/plain": [
       "<Figure size 432x288 with 1 Axes>"
      ]
     },
     "metadata": {
      "needs_background": "light",
      "tags": []
     },
     "output_type": "display_data"
    },
    {
     "data": {
      "text/plain": [
       "<Figure size 432x288 with 0 Axes>"
      ]
     },
     "metadata": {
      "tags": []
     },
     "output_type": "display_data"
    }
   ],
   "source": [
    "# Plot the accuracy and loss curves\n",
    "acc = history.history['accuracy']\n",
    "val_acc = history.history['val_accuracy']\n",
    "loss = history.history['loss']\n",
    "val_loss = history.history['val_loss']\n",
    "\n",
    "epochs = range(0,50)\n",
    "\n",
    "plt.plot(epochs, acc, 'r')\n",
    "plt.plot(epochs, val_acc, 'b')\n",
    "plt.title('Training and Testing accuracy')\n",
    "plt.ylabel('Accuracy')\n",
    "plt.xlabel('Epoch')\n",
    "plt.legend(['train', 'test'], loc='lower right')\n",
    "plt.figure()\n",
    "#------------------------------------------------\n",
    "# Plot training and validation loss per epoch\n",
    "#------------------------------------------------\n",
    "plt.plot(epochs, loss, 'r')\n",
    "plt.plot(epochs, val_loss, 'b')\n",
    "plt.legend(['train', 'test'], loc='upper right')\n",
    "plt.title('Training and Testing Loss')\n",
    "plt.ylabel('Loss')\n",
    "plt.xlabel('Epoch')\n",
    "plt.figure()\n",
    "\n",
    "plt.show()"
   ]
  },
  {
   "cell_type": "markdown",
   "metadata": {
    "id": "cGdce6Pcyn0s"
   },
   "source": [
    "## Validation of the trained model\n",
    "Show the errors"
   ]
  },
  {
   "cell_type": "code",
   "execution_count": 23,
   "metadata": {
    "colab": {
     "base_uri": "https://localhost:8080/",
     "height": 402
    },
    "id": "39ih5u62yn0s",
    "outputId": "7eae79ac-a09b-48d4-bfec-57a50a1f6aea",
    "scrolled": true
   },
   "outputs": [
    {
     "name": "stdout",
     "output_type": "stream",
     "text": [
      "Found 604 images belonging to 10 classes.\n",
      "<class 'dict'>\n",
      "{0: 'airplanes', 1: 'bonsai', 2: 'butterfly', 3: 'car_side', 4: 'faces', 5: 'ketch', 6: 'leopards', 7: 'motorbikes', 8: 'scorpion', 9: 'watch'}\n",
      "19/19 [==============================] - 10s 529ms/step\n",
      "No of errors = 55/604\n"
     ]
    },
    {
     "data": {
      "image/png": "[encoded data removed]",
      "text/plain": [
       "<Figure size 432x288 with 2 Axes>"
      ]
     },
     "metadata": {
      "needs_background": "light",
      "tags": []
     },
     "output_type": "display_data"
    }
   ],
   "source": [
    "# Create a generator for prediction\n",
    "validation_generator = validation_datagen.flow_from_directory(\n",
    "        validation_dir,\n",
    "        target_size=(image_size, image_size),\n",
    "        batch_size=val_batchsize,\n",
    "        class_mode='categorical',\n",
    "        shuffle=False)\n",
    "\n",
    "# Get the filenames from the generator\n",
    "fnames = validation_generator.filenames\n",
    "\n",
    "# Get the ground truth from generator\n",
    "# ground_truth = validation_generator.classes\n",
    "\n",
    "ground_truth = validation_generator.classes\n",
    "label2index = validation_generator.class_indices\n",
    "idx2label = dict((v,k) for k,v in label2index.items())\n",
    "# # Get the label to class mapping from the generator\n",
    "# print(\"idx2label\")\n",
    "print(type(idx2label))\n",
    "print(idx2label)\n",
    "# Get the predictions from the model using the generator\n",
    "predictions = cnn.predict(validation_generator,verbose=1)\n",
    "predicted_classes = np.argmax(predictions,axis=1)\n",
    "\n",
    "errors = np.where(predicted_classes != ground_truth)[0]\n",
    "print(\"No of errors = {}/{}\".format(len(errors),validation_generator.samples))\n",
    "\n",
    "from sklearn.metrics import confusion_matrix\n",
    "def PlotConfusionMatrix(ground_truth, predicted_classes):\n",
    "    np.set_printoptions(precision=2)\n",
    "    classes = ['airplanes','bonsai','butterfly','car_side','faces','ketch','leopards','motorbikes','scorpion','watch']\n",
    "    title='Confusion matrix'\n",
    "    cmap=plt.cm.Blues\n",
    "    cm = confusion_matrix(ground_truth,predicted_classes)\n",
    "    fig, ax = plt.subplots()\n",
    "    im = ax.imshow(cm, interpolation='nearest', cmap=cmap)\n",
    "    ax.figure.colorbar(im, ax=ax)\n",
    "    ax.set(xticks=np.arange(cm.shape[1]),\n",
    "           yticks=np.arange(cm.shape[0]),\n",
    "           xticklabels=classes, yticklabels=classes,\n",
    "           title=title,\n",
    "           ylabel='True label',\n",
    "           xlabel='Predicted label')\n",
    "    plt.setp(ax.get_xticklabels(), rotation=45, ha=\"right\",rotation_mode=\"anchor\")\n",
    "    fmt ='d' \n",
    "    thresh = cm.max() / 2.\n",
    "    for i in range(cm.shape[0]):\n",
    "        for j in range(cm.shape[1]):\n",
    "            ax.text(j, i, format(cm[i, j],fmt),\n",
    "                    ha=\"center\", va=\"center\",\n",
    "                    color=\"white\" if cm[i, j] > thresh else \"black\")\n",
    "    fig.tight_layout()    \n",
    "    plt.show()\n",
    "PlotConfusionMatrix(ground_truth, predicted_classes)"
   ]
  },
  {
   "cell_type": "code",
   "execution_count": 16,
   "metadata": {
    "colab": {
     "base_uri": "https://localhost:8080/"
    },
    "id": "u9PqvEqUyn0t",
    "outputId": "d74c7d2e-2289-46a4-9725-a3b0d7fd05ae"
   },
   "outputs": [
    {
     "name": "stdout",
     "output_type": "stream",
     "text": [
      "Training and validation done.\n"
     ]
    }
   ],
   "source": [
    "print(\"Training and validation done.\")"
   ]
  },
  {
   "cell_type": "code",
   "execution_count": null,
   "metadata": {
    "id": "lVdsTZFwyn0u"
   },
   "outputs": [],
   "source": []
  }
 ],
 "metadata": {
  "colab": {
   "collapsed_sections": [],
   "name": "keras-finetune-vgg16.ipynb",
   "provenance": []
  },
  "kernelspec": {
   "display_name": "Python 3",
   "language": "python",
   "name": "python3"
  },
  "language_info": {
   "codemirror_mode": {
    "name": "ipython",
    "version": 3
   },
   "file_extension": ".py",
   "mimetype": "text/x-python",
   "name": "python",
   "nbconvert_exporter": "python",
   "pygments_lexer": "ipython3",
   "version": "3.8.5"
  }
 },
 "nbformat": 4,
 "nbformat_minor": 1
}
